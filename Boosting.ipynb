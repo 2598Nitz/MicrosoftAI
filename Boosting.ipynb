{
  "nbformat": 4,
  "nbformat_minor": 0,
  "metadata": {
    "colab": {
      "name": "Boosting.ipynb",
      "version": "0.3.2",
      "provenance": [],
      "collapsed_sections": [],
      "include_colab_link": true
    },
    "kernelspec": {
      "name": "python3",
      "display_name": "Python 3"
    }
  },
  "cells": [
    {
      "cell_type": "markdown",
      "metadata": {
        "id": "view-in-github",
        "colab_type": "text"
      },
      "source": [
        "<a href=\"https://colab.research.google.com/github/2598Nitz/MicrosoftAI/blob/master/Boosting.ipynb\" target=\"_parent\"><img src=\"https://colab.research.google.com/assets/colab-badge.svg\" alt=\"Open In Colab\"/></a>"
      ]
    },
    {
      "metadata": {
        "id": "rvRj6jpgMyhk",
        "colab_type": "code",
        "colab": {}
      },
      "cell_type": "code",
      "source": [
        "!pip install -U -q PyDrive\n",
        "from pydrive.auth import GoogleAuth\n",
        "from pydrive.drive import GoogleDrive\n",
        "from google.colab import auth\n",
        "from oauth2client.client import GoogleCredentials\n",
        "# Authenticate and create the PyDrive client.\n",
        "auth.authenticate_user()\n",
        "gauth = GoogleAuth()\n",
        "gauth.credentials = GoogleCredentials.get_application_default()\n",
        "drive = GoogleDrive(gauth)"
      ],
      "execution_count": 0,
      "outputs": []
    },
    {
      "metadata": {
        "id": "SYx4BeRVM95n",
        "colab_type": "code",
        "colab": {}
      },
      "cell_type": "code",
      "source": [
        "downloaded = drive.CreateFile({'id':'1FbE-bTxaeIyhevzXQkxsVLwmIvGvnIu3'}) # replace fileid with Id of file you want to access\n",
        "downloaded.GetContentFile('cleandata1.tsv')\n"
      ],
      "execution_count": 0,
      "outputs": []
    },
    {
      "metadata": {
        "id": "2N3SybIkGTbM",
        "colab_type": "code",
        "colab": {}
      },
      "cell_type": "code",
      "source": [
        "downloaded = drive.CreateFile({'id':'1T50rUZMbFcNjsXG8gpEC-rc5xg6dS1kt'}) # replace fileid with Id of file you want to access\n",
        "downloaded.GetContentFile('cleaneval2.tsv')"
      ],
      "execution_count": 0,
      "outputs": []
    },
    {
      "metadata": {
        "id": "HywlZtSTNGH8",
        "colab_type": "code",
        "colab": {}
      },
      "cell_type": "code",
      "source": [
        "import pandas as pd\n",
        "import numpy as np"
      ],
      "execution_count": 0,
      "outputs": []
    },
    {
      "metadata": {
        "id": "TpNWA2_1NKWO",
        "colab_type": "code",
        "colab": {}
      },
      "cell_type": "code",
      "source": [
        "df = pd.read_csv('cleandata1.tsv',sep = \"\\t\", names = ['query_id','query','passage','label','passage_id'])"
      ],
      "execution_count": 0,
      "outputs": []
    },
    {
      "metadata": {
        "id": "OByLP2ANUqqM",
        "colab_type": "code",
        "colab": {}
      },
      "cell_type": "code",
      "source": [
        "testdf = pd.read_csv('cleaneval2.tsv',sep = \"\\t\", names = ['query_id','query','passage','passage_id'])"
      ],
      "execution_count": 0,
      "outputs": []
    },
    {
      "metadata": {
        "id": "bvRNpCHI-Gn6",
        "colab_type": "code",
        "outputId": "1c800d18-b1e6-43e5-bb1f-d85ca7aa5d77",
        "colab": {
          "base_uri": "https://localhost:8080/",
          "height": 34
        }
      },
      "cell_type": "code",
      "source": [
        "df.shape"
      ],
      "execution_count": 0,
      "outputs": [
        {
          "output_type": "execute_result",
          "data": {
            "text/plain": [
              "(5241880, 5)"
            ]
          },
          "metadata": {
            "tags": []
          },
          "execution_count": 7
        }
      ]
    },
    {
      "metadata": {
        "id": "pmSyAMuVSvYL",
        "colab_type": "code",
        "colab": {}
      },
      "cell_type": "code",
      "source": [
        "downloaded = drive.CreateFile({'id':'1Ed3HMlRJD_54CebqKiMHydjgAYTl3Ndh'}) # replace fileid with Id of file you want to access\n",
        "downloaded.GetContentFile('train.tsv')\n",
        "downloaded = drive.CreateFile({'id':'11PUImJZ6IvGNmKS_EV6jgQYeHr4GhLGs'}) # replace fileid with Id of file you want to access\n",
        "downloaded.GetContentFile('test.tsv')"
      ],
      "execution_count": 0,
      "outputs": []
    },
    {
      "metadata": {
        "id": "MC3X2WIkTGOQ",
        "colab_type": "code",
        "colab": {}
      },
      "cell_type": "code",
      "source": [
        "dfr = pd.read_csv('train.tsv',sep = \"\\t\", names = ['bm25'])\n",
        "dfe = pd.read_csv('test.tsv',sep = \"\\t\", names = ['bm25'])"
      ],
      "execution_count": 0,
      "outputs": []
    },
    {
      "metadata": {
        "id": "OZNVZWiUUt2P",
        "colab_type": "code",
        "outputId": "4c95c606-4cfa-40c0-98c9-21161d1193d5",
        "colab": {
          "base_uri": "https://localhost:8080/",
          "height": 34
        }
      },
      "cell_type": "code",
      "source": [
        "dfr.shape"
      ],
      "execution_count": 0,
      "outputs": [
        {
          "output_type": "execute_result",
          "data": {
            "text/plain": [
              "(5241880, 1)"
            ]
          },
          "metadata": {
            "tags": []
          },
          "execution_count": 10
        }
      ]
    },
    {
      "metadata": {
        "id": "2f7Zszp7U2Vv",
        "colab_type": "code",
        "outputId": "68b999a5-7296-4f6f-d947-9cb12d4508a5",
        "colab": {
          "base_uri": "https://localhost:8080/",
          "height": 34
        }
      },
      "cell_type": "code",
      "source": [
        "dfe.shape"
      ],
      "execution_count": 0,
      "outputs": [
        {
          "output_type": "execute_result",
          "data": {
            "text/plain": [
              "(415380, 1)"
            ]
          },
          "metadata": {
            "tags": []
          },
          "execution_count": 11
        }
      ]
    },
    {
      "metadata": {
        "id": "SHhGHMY6BuHb",
        "colab_type": "code",
        "colab": {}
      },
      "cell_type": "code",
      "source": [
        "df['bm25'] = dfr['bm25'].copy()\n",
        "testdf['bm25'] = dfe['bm25'].copy()"
      ],
      "execution_count": 0,
      "outputs": []
    },
    {
      "metadata": {
        "id": "davQtkn_H8Vj",
        "colab_type": "code",
        "outputId": "b52d3597-012b-4581-e578-4cccead41c80",
        "colab": {
          "base_uri": "https://localhost:8080/",
          "height": 34
        }
      },
      "cell_type": "code",
      "source": [
        "testdf.shape"
      ],
      "execution_count": 0,
      "outputs": [
        {
          "output_type": "execute_result",
          "data": {
            "text/plain": [
              "(415380, 5)"
            ]
          },
          "metadata": {
            "tags": []
          },
          "execution_count": 13
        }
      ]
    },
    {
      "metadata": {
        "id": "24zOZbbeUhQ7",
        "colab_type": "code",
        "colab": {}
      },
      "cell_type": "code",
      "source": [
        "pos_df = df[df.label == 1]\n",
        "neg_df = df[df.label == 0].sample(frac = 0.3)"
      ],
      "execution_count": 0,
      "outputs": []
    },
    {
      "metadata": {
        "id": "yylTnsmjygoh",
        "colab_type": "code",
        "colab": {}
      },
      "cell_type": "code",
      "source": [
        "new_df = pd.concat([pos_df,neg_df],ignore_index = True)"
      ],
      "execution_count": 0,
      "outputs": []
    },
    {
      "metadata": {
        "id": "JHnj7MaUylZ4",
        "colab_type": "code",
        "colab": {}
      },
      "cell_type": "code",
      "source": [
        "shuffle_df = new_df.sample(frac=1).reset_index(drop=True)"
      ],
      "execution_count": 0,
      "outputs": []
    },
    {
      "metadata": {
        "id": "zUKHwsZzNR1K",
        "colab_type": "text"
      },
      "cell_type": "markdown",
      "source": [
        "Feature Extraction:\n",
        "TFIDF matrix,\n",
        "BM25 score,\n",
        "No. of words,\n",
        "No. of characters,\n",
        "NER ? \n",
        "Embedding Matrix?,\n",
        "bigram matrix?,\n",
        "Distances from Embeddings"
      ]
    },
    {
      "metadata": {
        "id": "0jOklHIpNNlH",
        "colab_type": "code",
        "colab": {}
      },
      "cell_type": "code",
      "source": [
        "train_valid = shuffle_df.iloc[:450000,:].copy()"
      ],
      "execution_count": 0,
      "outputs": []
    },
    {
      "metadata": {
        "id": "aXwv5HKtWsW7",
        "colab_type": "code",
        "colab": {}
      },
      "cell_type": "code",
      "source": [
        "train_valid['query_char_len'] = train_valid['query'].str.len()\n",
        "train_valid['passage_char_len'] = train_valid['passage'].str.len()"
      ],
      "execution_count": 0,
      "outputs": []
    },
    {
      "metadata": {
        "id": "DDwRvBsiYmn8",
        "colab_type": "code",
        "colab": {}
      },
      "cell_type": "code",
      "source": [
        "train_valid['query_word_len'] = train_valid['query'].str.split().str.len()\n",
        "train_valid['passage_word_len'] = train_valid['passage'].str.split().str.len()"
      ],
      "execution_count": 0,
      "outputs": []
    },
    {
      "metadata": {
        "id": "NpTgbvCMZLJj",
        "colab_type": "code",
        "colab": {}
      },
      "cell_type": "code",
      "source": [
        "train_valid['char_ratio'] = train_valid['passage_char_len']/train_valid['query_char_len']\n",
        "train_valid['word_ratio'] = train_valid['passage_word_len']/train_valid['query_word_len']"
      ],
      "execution_count": 0,
      "outputs": []
    },
    {
      "metadata": {
        "id": "TSKuAx6ThTPv",
        "colab_type": "code",
        "colab": {}
      },
      "cell_type": "code",
      "source": [
        "def f(columns):\n",
        "  f_desc, f_def = columns[1], columns[2]\n",
        "  common = set(f_desc.split()).intersection(set(f_def.split()))\n",
        "  return len(common)"
      ],
      "execution_count": 0,
      "outputs": []
    },
    {
      "metadata": {
        "id": "2sFnW2jKidMj",
        "colab_type": "code",
        "colab": {}
      },
      "cell_type": "code",
      "source": [
        "train_valid['overlap_count'] = train_valid.apply(f, axis=1, raw=True).apply(pd.Series)"
      ],
      "execution_count": 0,
      "outputs": []
    },
    {
      "metadata": {
        "id": "IaRZV4j6dQY-",
        "colab_type": "code",
        "colab": {}
      },
      "cell_type": "code",
      "source": [
        "downloaded = drive.CreateFile({'id':'1tTmmlA7XgKNS3CFrpnVmMGLcq_kKLsGD'}) # replace fileid with Id of file you want to access\n",
        "downloaded.GetContentFile('GoogleNews-vectors-negative300.bin')"
      ],
      "execution_count": 0,
      "outputs": []
    },
    {
      "metadata": {
        "id": "L2bwN8-GPnu5",
        "colab_type": "code",
        "colab": {}
      },
      "cell_type": "code",
      "source": [
        "import gensim\n",
        "model = gensim.models.KeyedVectors.load_word2vec_format('GoogleNews-vectors-negative300.bin', binary=True)\n",
        "model.init_sims(replace=True)"
      ],
      "execution_count": 0,
      "outputs": []
    },
    {
      "metadata": {
        "id": "7HTswJfgdeyQ",
        "colab_type": "code",
        "colab": {}
      },
      "cell_type": "code",
      "source": [
        "train_valid['wmd'] = train_valid.apply(lambda row: model.wmdistance(row.query,row.passage), axis = 1)"
      ],
      "execution_count": 0,
      "outputs": []
    },
    {
      "metadata": {
        "id": "tJckbv49zRG1",
        "colab_type": "code",
        "colab": {}
      },
      "cell_type": "code",
      "source": [
        "train_valid.drop(['query_id','passage_id'],axis = 1,inplace = True)"
      ],
      "execution_count": 0,
      "outputs": []
    },
    {
      "metadata": {
        "id": "rdukN4KmzfCw",
        "colab_type": "code",
        "outputId": "405ea2f4-def2-43ec-fe82-b032a54d4ff3",
        "colab": {
          "base_uri": "https://localhost:8080/",
          "height": 119
        }
      },
      "cell_type": "code",
      "source": [
        "print(\"\\nDtypes of DF features:\\n\",train_valid.dtypes.value_counts())"
      ],
      "execution_count": 0,
      "outputs": [
        {
          "output_type": "stream",
          "text": [
            "\n",
            "Dtypes of DF features:\n",
            " int64      6\n",
            "float64    3\n",
            "object     2\n",
            "dtype: int64\n"
          ],
          "name": "stdout"
        }
      ]
    },
    {
      "metadata": {
        "id": "X43CquzBs0Do",
        "colab_type": "code",
        "colab": {}
      },
      "cell_type": "code",
      "source": [
        "def get_jaccard_sim(str1, str2): \n",
        "    a = set(str1.split()) \n",
        "    b = set(str2.split())\n",
        "    if(len(a) == 0 or len(b) == 0):\n",
        "      return 0.0\n",
        "    c = a.intersection(b)\n",
        "    return float(len(c)) / (len(a) + len(b) - len(c))"
      ],
      "execution_count": 0,
      "outputs": []
    },
    {
      "metadata": {
        "id": "aq2s235Ps4EX",
        "colab_type": "code",
        "colab": {}
      },
      "cell_type": "code",
      "source": [
        "train_valid['jaccard_sim'] = train_valid.apply(lambda row: get_jaccard_sim(row.query,row.passage), axis = 1)"
      ],
      "execution_count": 0,
      "outputs": []
    },
    {
      "metadata": {
        "id": "TJpxyYZvepYa",
        "colab_type": "code",
        "colab": {}
      },
      "cell_type": "code",
      "source": [
        "train_valid.to_csv('trainxgb.tsv', sep = '\\t', index = False)"
      ],
      "execution_count": 0,
      "outputs": []
    },
    {
      "metadata": {
        "id": "SuUYmRnzu0xA",
        "colab_type": "code",
        "colab": {}
      },
      "cell_type": "code",
      "source": [
        "#!wget https://github.com/nlptown/nlp-notebooks/blob/master/data/sentence_similarity/doc_frequencies.tsv"
      ],
      "execution_count": 0,
      "outputs": []
    },
    {
      "metadata": {
        "id": "hTqm_BOJ2por",
        "colab_type": "code",
        "colab": {}
      },
      "cell_type": "code",
      "source": [
        "#!wget https://github.com/nlptown/nlp-notebooks/blob/master/data/sentence_similarity/frequencies.tsv"
      ],
      "execution_count": 0,
      "outputs": []
    },
    {
      "metadata": {
        "id": "-kH4nxEF28Sh",
        "colab_type": "code",
        "colab": {}
      },
      "cell_type": "code",
      "source": [
        "# downloaded = drive.CreateFile({'id':'10Rtte1j-FA9kpIT1pAg67TwxtW9pD4hW'}) # replace fileid with Id of file you want to access\n",
        "# downloaded.GetContentFile('glove.6B.100d.txt')\n"
      ],
      "execution_count": 0,
      "outputs": []
    },
    {
      "metadata": {
        "id": "HonBczVq4U-L",
        "colab_type": "text"
      },
      "cell_type": "markdown",
      "source": [
        "Rest distances will be obtained later. Continue with XGboost pipeline"
      ]
    },
    {
      "metadata": {
        "id": "Wq9i6oIF4f-s",
        "colab_type": "code",
        "colab": {}
      },
      "cell_type": "code",
      "source": [
        "train_valid.head(10)"
      ],
      "execution_count": 0,
      "outputs": []
    },
    {
      "metadata": {
        "id": "lw-kiJCPClA-",
        "colab_type": "code",
        "colab": {}
      },
      "cell_type": "code",
      "source": [
        "testdf['query'] = testdf['query'].str.replace('[\\[,\\]]|\\'', '')\n",
        "testdf['passage'] = testdf['passage'].str.replace('[\\[,\\]]|\\'', '')"
      ],
      "execution_count": 0,
      "outputs": []
    },
    {
      "metadata": {
        "id": "lsvWzx2h5Qit",
        "colab_type": "code",
        "colab": {}
      },
      "cell_type": "code",
      "source": [
        "testdf['query_char_len'] = testdf['query'].str.len()\n",
        "testdf['passage_char_len'] = testdf['passage'].str.len()\n",
        "testdf['query_word_len'] = testdf['query'].str.split().str.len()\n",
        "testdf['passage_word_len'] = testdf['passage'].str.split().str.len()\n",
        "testdf['char_ratio'] = testdf['passage_char_len']/testdf['query_char_len']\n",
        "testdf['word_ratio'] = testdf['passage_word_len']/testdf['query_word_len']\n",
        "testdf['overlap_count'] = testdf.apply(f, axis=1, raw=True).apply(pd.Series)\n",
        "testdf.drop(['query_id','passage_id'],axis = 1,inplace = True)\n",
        "testdf['jaccard_sim'] = testdf.apply(lambda row: get_jaccard_sim(row.query,row.passage), axis = 1)\n"
      ],
      "execution_count": 0,
      "outputs": []
    },
    {
      "metadata": {
        "id": "7r506jk9nKK4",
        "colab_type": "code",
        "colab": {}
      },
      "cell_type": "code",
      "source": [
        "testdf['wmd'] = testdf.apply(lambda row: model.wmdistance(row.query,row.passage), axis = 1)"
      ],
      "execution_count": 0,
      "outputs": []
    },
    {
      "metadata": {
        "id": "B5JGoMITp2Jk",
        "colab_type": "code",
        "colab": {}
      },
      "cell_type": "code",
      "source": [
        "testdf.to_csv('testxgb.tsv', sep = '\\t', index = False)"
      ],
      "execution_count": 0,
      "outputs": []
    },
    {
      "metadata": {
        "id": "VYBCEcBuqiGM",
        "colab_type": "code",
        "colab": {}
      },
      "cell_type": "code",
      "source": [
        "import pandas as pd"
      ],
      "execution_count": 0,
      "outputs": []
    },
    {
      "metadata": {
        "id": "nHUsTF21qeFF",
        "colab_type": "code",
        "colab": {}
      },
      "cell_type": "code",
      "source": [
        "train_valid = pd.read_csv('trainxgb.tsv', sep = '\\t')"
      ],
      "execution_count": 0,
      "outputs": []
    },
    {
      "metadata": {
        "id": "xbYu9gQGryea",
        "colab_type": "code",
        "colab": {}
      },
      "cell_type": "code",
      "source": [
        "train_valid.head()"
      ],
      "execution_count": 0,
      "outputs": []
    },
    {
      "metadata": {
        "id": "MQxF6AdjrW9j",
        "colab_type": "code",
        "colab": {}
      },
      "cell_type": "code",
      "source": [
        "test_df = pd.read_csv('testxgb.tsv', sep = '\\t')"
      ],
      "execution_count": 0,
      "outputs": []
    },
    {
      "metadata": {
        "id": "rhGUZgrJrm3I",
        "colab_type": "code",
        "colab": {}
      },
      "cell_type": "code",
      "source": [
        "testdf.head()"
      ],
      "execution_count": 0,
      "outputs": []
    },
    {
      "metadata": {
        "id": "X003__AJglBz",
        "colab_type": "text"
      },
      "cell_type": "markdown",
      "source": [
        "Try changing features"
      ]
    },
    {
      "metadata": {
        "id": "wq-_Or4IgirR",
        "colab_type": "code",
        "colab": {}
      },
      "cell_type": "code",
      "source": [
        "train_valid = train_valid.drop(['wmd'],axis = 1)\n",
        "test_df = test_df.drop(['wmd'],axis = 1)"
      ],
      "execution_count": 0,
      "outputs": []
    },
    {
      "metadata": {
        "id": "qsZwCUwbzUqz",
        "colab_type": "text"
      },
      "cell_type": "markdown",
      "source": [
        "Sentence encoding"
      ]
    },
    {
      "metadata": {
        "id": "I8VxN1TzzXUK",
        "colab_type": "code",
        "colab": {}
      },
      "cell_type": "code",
      "source": [
        "import tensorflow as tf\n",
        "import tensorflow_hub as hub\n",
        "module_url = \"https://tfhub.dev/google/universal-sentence-encoder-large/3\"\n",
        "# Import the Universal Sentence Encoder's TF Hub module\n",
        "embed = hub.Module(module_url)"
      ],
      "execution_count": 0,
      "outputs": []
    },
    {
      "metadata": {
        "id": "RTW1e0WOzinj",
        "colab_type": "code",
        "colab": {}
      },
      "cell_type": "code",
      "source": [
        "def run_gse_benchmark(sentences1, sentences2):\n",
        "    sts_input1 = tf.placeholder(tf.string, shape=(None))\n",
        "    sts_input2 = tf.placeholder(tf.string, shape=(None))\n",
        "\n",
        "    sts_encode1 = tf.nn.l2_normalize(embed(sts_input1))\n",
        "    sts_encode2 = tf.nn.l2_normalize(embed(sts_input2))\n",
        "        \n",
        "    sim_scores = tf.reduce_sum(tf.multiply(sts_encode1, sts_encode2), axis=1)\n",
        "    \n",
        "    with tf.Session() as session:\n",
        "        session.run(tf.global_variables_initializer())\n",
        "        session.run(tf.tables_initializer())\n",
        "      \n",
        "        [gse_sims] = session.run(\n",
        "            [sim_scores],\n",
        "            feed_dict={\n",
        "                sts_input1: [sentences1],\n",
        "                sts_input2: [sentences2]\n",
        "            })\n",
        "    return gse_sims"
      ],
      "execution_count": 0,
      "outputs": []
    },
    {
      "metadata": {
        "id": "cHtbvPu-0Xyl",
        "colab_type": "code",
        "colab": {}
      },
      "cell_type": "code",
      "source": [
        "test_df['gse'] = test_df.apply(lambda row: run_gse_benchmark(row.query,row.passage), axis = 1)"
      ],
      "execution_count": 0,
      "outputs": []
    },
    {
      "metadata": {
        "id": "3c8mnFlb1nYs",
        "colab_type": "code",
        "colab": {}
      },
      "cell_type": "code",
      "source": [
        "dummy = test_df.iloc[:10,:].copy()"
      ],
      "execution_count": 0,
      "outputs": []
    },
    {
      "metadata": {
        "id": "5SsRNXe61v51",
        "colab_type": "code",
        "colab": {}
      },
      "cell_type": "code",
      "source": [
        "dummy['gse'] = dummy.apply(lambda row: run_gse_benchmark(row.query,row.passage), axis = 1)"
      ],
      "execution_count": 0,
      "outputs": []
    },
    {
      "metadata": {
        "id": "Sob3k9SE-f_A",
        "colab_type": "code",
        "colab": {}
      },
      "cell_type": "code",
      "source": [
        "train_valid['text'] = train_valid.apply(lambda row: ' '.join([str(row['query']), str(row['passage'])]), axis=1)\n",
        "testdf['text'] = testdf.apply(lambda row: ' '.join([str(row['query']), str(row['passage'])]), axis=1)"
      ],
      "execution_count": 0,
      "outputs": []
    },
    {
      "metadata": {
        "id": "JqL2KniRAyKI",
        "colab_type": "code",
        "colab": {}
      },
      "cell_type": "code",
      "source": [
        "train_text = train_valid['text'].apply(lambda x: ''.join(x))\n",
        "test_text = testdf['text'].apply(lambda x: ''.join(x))"
      ],
      "execution_count": 0,
      "outputs": []
    },
    {
      "metadata": {
        "id": "4CMmcFVmA89h",
        "colab_type": "code",
        "colab": {}
      },
      "cell_type": "code",
      "source": [
        "train_text[:10]"
      ],
      "execution_count": 0,
      "outputs": []
    },
    {
      "metadata": {
        "id": "qfOH2OC9BGxL",
        "colab_type": "code",
        "colab": {}
      },
      "cell_type": "code",
      "source": [
        "test_text[:10]"
      ],
      "execution_count": 0,
      "outputs": []
    },
    {
      "metadata": {
        "id": "8qrV2voRMyF5",
        "colab_type": "code",
        "colab": {}
      },
      "cell_type": "code",
      "source": [
        "import random\n",
        "from sklearn import *\n",
        "from sklearn.feature_extraction.text import TfidfVectorizer, CountVectorizer\n",
        "from sklearn.preprocessing import LabelEncoder\n",
        "from tqdm import tqdm\n",
        "from scipy.sparse import hstack, vstack, csr_matrix\n",
        "from sklearn.linear_model import LogisticRegression\n",
        "from sklearn.preprocessing import StandardScaler\n",
        "from sklearn.metrics import roc_auc_score\n",
        "from sklearn.model_selection import train_test_split\n",
        "from sklearn.model_selection import KFold, RepeatedKFold\n",
        "from sklearn.model_selection import cross_val_score\n",
        "import xgboost as xgb\n",
        "import lightgbm as lgb"
      ],
      "execution_count": 0,
      "outputs": []
    },
    {
      "metadata": {
        "id": "JVxI3L1BG7Q8",
        "colab_type": "code",
        "colab": {}
      },
      "cell_type": "code",
      "source": [
        "tfv = TfidfVectorizer(norm='l2', min_df=0,  max_features=8000, \n",
        "            strip_accents='unicode', analyzer='word', token_pattern=r'\\w{1,}',\n",
        "            ngram_range=(1,2), use_idf=True, smooth_idf=False, sublinear_tf=True,\n",
        "            stop_words = 'english')"
      ],
      "execution_count": 0,
      "outputs": []
    },
    {
      "metadata": {
        "id": "6fkH0QnXL4G3",
        "colab_type": "code",
        "colab": {}
      },
      "cell_type": "code",
      "source": [
        "tfv.fit(list(train_text.values) + list(test_text.values))\n",
        "train_tfv = tfv.transform(train_text)\n",
        "test_tfv = tfv.transform(test_text)"
      ],
      "execution_count": 0,
      "outputs": []
    },
    {
      "metadata": {
        "id": "egQdhdvJBx03",
        "colab_type": "code",
        "outputId": "0e0b5ab0-c42d-4f52-a5c1-c9d38a112665",
        "colab": {
          "base_uri": "https://localhost:8080/",
          "height": 85
        }
      },
      "cell_type": "code",
      "source": [
        "train_valid.dtypes.value_counts()"
      ],
      "execution_count": 0,
      "outputs": [
        {
          "output_type": "execute_result",
          "data": {
            "text/plain": [
              "int64      6\n",
              "float64    4\n",
              "object     3\n",
              "dtype: int64"
            ]
          },
          "metadata": {
            "tags": []
          },
          "execution_count": 44
        }
      ]
    },
    {
      "metadata": {
        "id": "15Pp_urCB55R",
        "colab_type": "code",
        "colab": {}
      },
      "cell_type": "code",
      "source": [
        "feat_train = train_valid.drop(['query','passage','text','label'], axis = 1).copy()\n",
        "feat_test = testdf.drop(['query','passage','text'], axis = 1).copy()\n",
        "target = train_valid['label'].copy()"
      ],
      "execution_count": 0,
      "outputs": []
    },
    {
      "metadata": {
        "id": "B56CAMyAChaN",
        "colab_type": "code",
        "outputId": "e66b90c1-eb93-4a1c-e2ba-d758984e62bd",
        "colab": {
          "base_uri": "https://localhost:8080/",
          "height": 119
        }
      },
      "cell_type": "code",
      "source": [
        "print(feat_train.dtypes.value_counts())\n",
        "print(feat_test.dtypes.value_counts())"
      ],
      "execution_count": 0,
      "outputs": [
        {
          "output_type": "stream",
          "text": [
            "int64      5\n",
            "float64    4\n",
            "dtype: int64\n",
            "int64      5\n",
            "float64    4\n",
            "dtype: int64\n"
          ],
          "name": "stdout"
        }
      ]
    },
    {
      "metadata": {
        "id": "65RewOEDL59Y",
        "colab_type": "code",
        "outputId": "a3bdcd20-fa16-43e4-9658-a5e561dcf29e",
        "colab": {
          "base_uri": "https://localhost:8080/",
          "height": 68
        }
      },
      "cell_type": "code",
      "source": [
        "feat_train = csr_matrix(feat_train.values)\n",
        "feat_test = csr_matrix(feat_test.values)\n",
        "X_train_stack = hstack([feat_train, train_tfv[0:feat_train.shape[0]]])\n",
        "X_test_stack = hstack([feat_test, test_tfv[0:feat_test.shape[0]]])\n",
        "\n",
        "print('Train shape: ', X_train_stack.shape, '\\n\\nTest Shape: ', X_test_stack.shape)"
      ],
      "execution_count": 0,
      "outputs": [
        {
          "output_type": "stream",
          "text": [
            "Train shape:  (450000, 8009) \n",
            "\n",
            "Test Shape:  (415380, 8009)\n"
          ],
          "name": "stdout"
        }
      ]
    },
    {
      "metadata": {
        "id": "iZ27s9u5MHlr",
        "colab_type": "code",
        "colab": {}
      },
      "cell_type": "code",
      "source": [
        "seed = 28"
      ],
      "execution_count": 0,
      "outputs": []
    },
    {
      "metadata": {
        "id": "f5xl0_2WMEcP",
        "colab_type": "code",
        "colab": {}
      },
      "cell_type": "code",
      "source": [
        "K = 5 # How many folds do you want? \n",
        "kf = KFold(n_splits = K, random_state = seed, shuffle = True)"
      ],
      "execution_count": 0,
      "outputs": []
    },
    {
      "metadata": {
        "id": "t25wd0e1MNvm",
        "colab_type": "code",
        "colab": {}
      },
      "cell_type": "code",
      "source": [
        "cv_scores = []\n",
        "xgb_preds = []\n",
        "\n",
        "for train_index, test_index in kf.split(X_train_stack):\n",
        "    \n",
        "    # Split out a validation set\n",
        "    X_train, X_valid, y_train, y_valid = train_test_split(X_train_stack, target, test_size=0.20, random_state=random.seed(seed))\n",
        "    \n",
        "    # params are tuned with kaggle kernels in mind\n",
        "    xgb_params = {'eta': 0.15, \n",
        "                  'max_depth': 6, \n",
        "                  'subsample': 0.80, \n",
        "                  'colsample_bytree': 0.80, \n",
        "                  'objective': 'binary:logistic', \n",
        "                  'eval_metric': 'auc', \n",
        "                  'seed': seed\n",
        "                 }\n",
        "    d_train = xgb.DMatrix(X_train, y_train)\n",
        "    d_valid = xgb.DMatrix(X_valid, y_valid)\n",
        "    d_test = xgb.DMatrix(X_test_stack)\n",
        "    \n",
        "    watchlist = [(d_train, 'train'), (d_valid, 'valid')]\n",
        "    model = xgb.train(xgb_params, d_train, 2000, watchlist, verbose_eval=50, early_stopping_rounds=30)\n",
        "    cv_scores.append(float(model.attributes()['best_score']))\n",
        "    xgb_pred = model.predict(d_test)\n",
        "    xgb_preds.append(list(xgb_pred))"
      ],
      "execution_count": 0,
      "outputs": []
    },
    {
      "metadata": {
        "id": "4-ANXJP4MUtr",
        "colab_type": "code",
        "outputId": "a0e4cf0b-94b5-4775-a8dc-d101bab51614",
        "colab": {
          "base_uri": "https://localhost:8080/",
          "height": 51
        }
      },
      "cell_type": "code",
      "source": [
        "import numpy as np\n",
        "print(cv_scores)\n",
        "print(np.mean(cv_scores))"
      ],
      "execution_count": 0,
      "outputs": [
        {
          "output_type": "stream",
          "text": [
            "[0.710728, 0.709724, 0.711833, 0.711991, 0.71191]\n",
            "0.7112372\n"
          ],
          "name": "stdout"
        }
      ]
    },
    {
      "metadata": {
        "id": "hqQe40gSFXk3",
        "colab_type": "code",
        "colab": {}
      },
      "cell_type": "code",
      "source": [
        "x_preds=[]\n",
        "for i in range(len(xgb_preds[0])):\n",
        "    sum=0\n",
        "    for j in range(K):\n",
        "        sum+=xgb_preds[j][i]\n",
        "    x_preds.append(sum / K)"
      ],
      "execution_count": 0,
      "outputs": []
    },
    {
      "metadata": {
        "id": "Am7albYsGfJY",
        "colab_type": "code",
        "colab": {}
      },
      "cell_type": "code",
      "source": [
        "testdf = pd.read_csv('cleaneval2.tsv',sep = \"\\t\", names = ['query_id','query','passage','passage_id'])"
      ],
      "execution_count": 0,
      "outputs": []
    },
    {
      "metadata": {
        "id": "_wjN41OiFyod",
        "colab_type": "code",
        "colab": {}
      },
      "cell_type": "code",
      "source": [
        "k = 0\n",
        "f = open('answer_xgb.tsv','w')\n",
        "for index,row in testdf.iterrows():\n",
        "  if index%10 == 0:\n",
        "    newlist = []\n",
        "    for val in x_preds[k:k+10]:\n",
        "      newlist.append(val)\n",
        "    k = k+10\n",
        "    scores_str = [str(v) for v in newlist]\n",
        "    scores_str = \"\\t\".join(scores_str)\n",
        "    f.write(str(row['query_id'])+\"\\t\"+scores_str+\"\\n\")"
      ],
      "execution_count": 0,
      "outputs": []
    },
    {
      "metadata": {
        "id": "7MmBi2lLGxBb",
        "colab_type": "code",
        "colab": {}
      },
      "cell_type": "code",
      "source": [
        ""
      ],
      "execution_count": 0,
      "outputs": []
    }
  ]
}